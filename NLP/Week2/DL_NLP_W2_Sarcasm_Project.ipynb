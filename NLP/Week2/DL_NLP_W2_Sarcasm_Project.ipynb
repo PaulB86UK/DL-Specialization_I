{
  "nbformat": 4,
  "nbformat_minor": 0,
  "metadata": {
    "colab": {
      "name": "DL - NLP - W1 - Sarcasm Project",
      "provenance": [],
      "collapsed_sections": [],
      "toc_visible": true
    },
    "kernelspec": {
      "display_name": "Python 3",
      "name": "python3"
    }
  },
  "cells": [
    {
      "cell_type": "code",
      "metadata": {
        "id": "XYYDvoskkE61"
      },
      "source": [
        "#Libraries\n",
        "import json\n",
        "import tensorflow as tf\n",
        "import numpy as np\n",
        "from tensorflow.keras.preprocessing.text import Tokenizer\n",
        "from tensorflow.keras.preprocessing.sequence import pad_sequences"
      ],
      "execution_count": 31,
      "outputs": []
    },
    {
      "cell_type": "code",
      "metadata": {
        "id": "OkaBMeNDwMel",
        "colab": {
          "base_uri": "https://localhost:8080/"
        },
        "outputId": "e244a8ed-7182-4ebd-e1bd-79dba206ab6d"
      },
      "source": [
        "!wget --no-check-certificate \\\n",
        "    https://storage.googleapis.com/laurencemoroney-blog.appspot.com/sarcasm.json \\\n",
        "    -O /tmp/sarcasm.json\n",
        "\n",
        "with open(\"/tmp/sarcasm.json\", 'r') as f:\n",
        "    datastore = json.load(f)\n",
        "\n",
        "sentences = [] \n",
        "labels = []\n",
        "urls = []\n",
        "for item in datastore:\n",
        "    sentences.append(item['headline'])\n",
        "    labels.append(item['is_sarcastic'])"
      ],
      "execution_count": 32,
      "outputs": [
        {
          "output_type": "stream",
          "text": [
            "--2020-12-15 17:49:55--  https://storage.googleapis.com/laurencemoroney-blog.appspot.com/sarcasm.json\n",
            "Resolving storage.googleapis.com (storage.googleapis.com)... 173.194.215.128, 173.194.216.128, 173.194.217.128, ...\n",
            "Connecting to storage.googleapis.com (storage.googleapis.com)|173.194.215.128|:443... connected.\n",
            "HTTP request sent, awaiting response... 200 OK\n",
            "Length: 5643545 (5.4M) [application/json]\n",
            "Saving to: ‘/tmp/sarcasm.json’\n",
            "\n",
            "\r/tmp/sarcasm.json     0%[                    ]       0  --.-KB/s               \r/tmp/sarcasm.json   100%[===================>]   5.38M  --.-KB/s    in 0.03s   \n",
            "\n",
            "2020-12-15 17:49:55 (199 MB/s) - ‘/tmp/sarcasm.json’ saved [5643545/5643545]\n",
            "\n"
          ],
          "name": "stdout"
        }
      ]
    },
    {
      "cell_type": "code",
      "metadata": {
        "id": "0eJSTTYnkJQd"
      },
      "source": [
        "#Hyperparameters\n",
        "vocab_size = 10000\n",
        "embedding_dim = 16\n",
        "max_length = 100\n",
        "trunc_type='post'\n",
        "padding_type='post'\n",
        "oov_tok = \"<OOV>\"\n",
        "training_size = 20000\n"
      ],
      "execution_count": 33,
      "outputs": []
    },
    {
      "cell_type": "markdown",
      "metadata": {
        "id": "HijLRflvuTGw"
      },
      "source": [
        "To split the corpus into training and validation sets, we'll use this code. To get the training set, you take array items from zero to the training size, and to get the testing set, you can go from training size to the end of the array with code like this. To get the training and testing labels, you'll use similar codes to slice the labels array. Now that we have training and test sets of sequences and labels, it's time to sequence them. "
      ]
    },
    {
      "cell_type": "code",
      "metadata": {
        "id": "S1sD-7v0kYWk"
      },
      "source": [
        "training_sentences = sentences[0:training_size]\n",
        "testing_sentences = sentences[training_size:]\n",
        "training_labels = labels[0:training_size]\n",
        "testing_labels = labels[training_size:]"
      ],
      "execution_count": 34,
      "outputs": []
    },
    {
      "cell_type": "markdown",
      "metadata": {
        "id": "6qLdoK5SuZ7m"
      },
      "source": [
        "Now that we have training and test sets of sequences and labels, it's time to sequence them. To pad those sequences, you'll do that with this code. You start with a tokenizer, passing it the number of words you want to tokenize on and the desired out of vocabulary token. Then fit that on the training set by calling fit on texts, passing it the training sentences array. Then you can use text to sequences to create the training sequence, replacing the words with their tokens. Then you can pad the training sequences to the desired length or truncate if they're too long. Next, you'll do the same but with a test set."
      ]
    },
    {
      "cell_type": "code",
      "metadata": {
        "id": "3u8UB0MCkZ5N"
      },
      "source": [
        "tokenizer = Tokenizer(num_words=vocab_size, oov_token=oov_tok)\n",
        "tokenizer.fit_on_texts(training_sentences)\n",
        "\n",
        "word_index = tokenizer.word_index\n",
        "\n",
        "training_sequences = tokenizer.texts_to_sequences(training_sentences)\n",
        "training_padded = pad_sequences(training_sequences, maxlen=max_length, padding=padding_type, truncating=trunc_type)\n",
        "\n",
        "testing_sequences = tokenizer.texts_to_sequences(testing_sentences)\n",
        "testing_padded = pad_sequences(testing_sequences, maxlen=max_length, padding=padding_type, truncating=trunc_type)"
      ],
      "execution_count": 35,
      "outputs": []
    },
    {
      "cell_type": "code",
      "metadata": {
        "id": "GrAlWBKf99Ya"
      },
      "source": [
        "import numpy as np\n",
        "training_padded = np.array(training_padded)\n",
        "training_labels = np.array(training_labels)\n",
        "testing_padded = np.array(testing_padded)\n",
        "testing_labels = np.array(testing_labels)"
      ],
      "execution_count": 36,
      "outputs": []
    },
    {
      "cell_type": "code",
      "metadata": {
        "id": "FufaT4vlkiDE",
        "colab": {
          "base_uri": "https://localhost:8080/"
        },
        "outputId": "d5626b01-3a34-405c-bb9b-32f656470115"
      },
      "source": [
        "model = tf.keras.Sequential([\n",
        "    tf.keras.layers.Embedding(vocab_size, embedding_dim, input_length=max_length),\n",
        "    tf.keras.layers.GlobalAveragePooling1D(),\n",
        "    tf.keras.layers.Dense(24, activation='relu'),\n",
        "    tf.keras.layers.Dense(1, activation='sigmoid')\n",
        "])\n",
        "model.compile(loss='binary_crossentropy',optimizer='adam',metrics=['accuracy'])\n",
        "model.summary()\n"
      ],
      "execution_count": 37,
      "outputs": [
        {
          "output_type": "stream",
          "text": [
            "Model: \"sequential_5\"\n",
            "_________________________________________________________________\n",
            "Layer (type)                 Output Shape              Param #   \n",
            "=================================================================\n",
            "embedding_5 (Embedding)      (None, 100, 16)           160000    \n",
            "_________________________________________________________________\n",
            "global_average_pooling1d_5 ( (None, 16)                0         \n",
            "_________________________________________________________________\n",
            "dense_10 (Dense)             (None, 24)                408       \n",
            "_________________________________________________________________\n",
            "dense_11 (Dense)             (None, 1)                 25        \n",
            "=================================================================\n",
            "Total params: 160,433\n",
            "Trainable params: 160,433\n",
            "Non-trainable params: 0\n",
            "_________________________________________________________________\n"
          ],
          "name": "stdout"
        }
      ]
    },
    {
      "cell_type": "code",
      "metadata": {
        "id": "2DTKQFf1kkyc",
        "colab": {
          "base_uri": "https://localhost:8080/"
        },
        "outputId": "78b1f7eb-7330-4386-9182-0aa3622f09c2"
      },
      "source": [
        "num_epochs = 30\n",
        "history = model.fit(training_padded, training_labels, epochs=num_epochs, validation_data=(testing_padded, testing_labels), verbose=2)"
      ],
      "execution_count": null,
      "outputs": [
        {
          "output_type": "stream",
          "text": [
            "Epoch 1/30\n",
            "625/625 - 2s - loss: 0.6668 - accuracy: 0.5843 - val_loss: 0.5891 - val_accuracy: 0.7810\n",
            "Epoch 2/30\n",
            "625/625 - 2s - loss: 0.4411 - accuracy: 0.8297 - val_loss: 0.3912 - val_accuracy: 0.8337\n",
            "Epoch 3/30\n",
            "625/625 - 2s - loss: 0.3169 - accuracy: 0.8744 - val_loss: 0.3539 - val_accuracy: 0.8529\n",
            "Epoch 4/30\n",
            "625/625 - 2s - loss: 0.2631 - accuracy: 0.8982 - val_loss: 0.3428 - val_accuracy: 0.8577\n",
            "Epoch 5/30\n",
            "625/625 - 2s - loss: 0.2278 - accuracy: 0.9128 - val_loss: 0.3652 - val_accuracy: 0.8429\n",
            "Epoch 6/30\n"
          ],
          "name": "stdout"
        }
      ]
    },
    {
      "cell_type": "code",
      "metadata": {
        "id": "2HYfBKXjkmU8"
      },
      "source": [
        "import matplotlib.pyplot as plt\n",
        "def plot_graphs(history, string):\n",
        "  plt.plot(history.history[string])\n",
        "  plt.plot(history.history['val_'+string])\n",
        "  plt.xlabel(\"Epochs\")\n",
        "  plt.ylabel(string)\n",
        "  plt.legend([string, 'val_'+string])\n",
        "  plt.show()\n",
        "  \n",
        "plot_graphs(history, \"accuracy\")\n",
        "plot_graphs(history, \"loss\")"
      ],
      "execution_count": null,
      "outputs": []
    },
    {
      "cell_type": "code",
      "metadata": {
        "id": "i-zIhwBc9Uwc"
      },
      "source": [
        "#Integrating everything inside a function to test different hyperparameters\n",
        "\n",
        "def NLP_Preparation(training_size,embedding_dim,max_length,trunc_type,padding_type,oov_tok):\n",
        "  training_sentences = sentences[0:training_size]\n",
        "  testing_sentences = sentences[training_size:]\n",
        "  training_labels = labels[0:training_size]\n",
        "  testing_labels = labels[training_size:]\n",
        "  tokenizer = Tokenizer(num_words=vocab_size, oov_token=oov_tok)\n",
        "  tokenizer.fit_on_texts(training_sentences)\n",
        "\n",
        "  word_index = tokenizer.word_index\n",
        "\n",
        "  training_sequences = tokenizer.texts_to_sequences(training_sentences)\n",
        "  training_padded = pad_sequences(training_sequences, maxlen=max_length, padding=padding_type, truncating=trunc_type)\n",
        "\n",
        "  testing_sequences = tokenizer.texts_to_sequences(testing_sentences)\n",
        "  testing_padded = pad_sequences(testing_sequences, maxlen=max_length, padding=padding_type, truncating=trunc_type)\n",
        "  # Need this to get it to work with TensorFlow 2.x\n",
        "  training_padded = np.array(training_padded)\n",
        "  training_labels = np.array(training_labels)\n",
        "  testing_padded = np.array(testing_padded)\n",
        "  testing_labels = np.array(testing_labels)\n",
        "\n",
        "  #model\n",
        "\n",
        "  model = tf.keras.Sequential([\n",
        "    tf.keras.layers.Embedding(vocab_size, embedding_dim, input_length=max_length),\n",
        "    tf.keras.layers.GlobalAveragePooling1D(),\n",
        "    tf.keras.layers.Dense(24, activation='relu'),\n",
        "    tf.keras.layers.Dense(1, activation='sigmoid')\n",
        "  ])\n",
        "  model.compile(loss='binary_crossentropy',optimizer='adam',metrics=['accuracy'])\n",
        "\n",
        "  print(model.summary())\n",
        "  \n",
        "  num_epochs = 30\n",
        "  history = model.fit(training_padded, training_labels, epochs=num_epochs, validation_data=(testing_padded, testing_labels), verbose=2)\n",
        "  def plot_graphs(history, string):\n",
        "    plt.plot(history.history[string])\n",
        "    plt.plot(history.history['val_'+string])\n",
        "    plt.xlabel(\"Epochs\")\n",
        "    plt.ylabel(string)\n",
        "    plt.legend([string, 'val_'+string])\n",
        "    plt.show()\n",
        "  plot_graphs(history, \"accuracy\")\n",
        "  plot_graphs(history, \"loss\")\n"
      ],
      "execution_count": null,
      "outputs": []
    },
    {
      "cell_type": "code",
      "metadata": {
        "colab": {
          "base_uri": "https://localhost:8080/",
          "height": 1000
        },
        "id": "srUU49eW-sPI",
        "outputId": "4e0356df-e286-47b0-b5d2-bd71704808b2"
      },
      "source": [
        "# was 100#2\n",
        "#Hyperparameters\n",
        "vocab_size = 2000 # was 10000\n",
        "embedding_dim = 16\n",
        "max_length = 100\n",
        "trunc_type='post'\n",
        "padding_type='post'\n",
        "oov_tok = \"<OOV>\"\n",
        "training_size = 20000\n",
        "#run\n",
        "NLP_Preparation(training_size,embedding_dim,max_length,trunc_type,padding_type,oov_tok)"
      ],
      "execution_count": 29,
      "outputs": [
        {
          "output_type": "stream",
          "text": [
            "Model: \"sequential_3\"\n",
            "_________________________________________________________________\n",
            "Layer (type)                 Output Shape              Param #   \n",
            "=================================================================\n",
            "embedding_3 (Embedding)      (None, 100, 16)           32000     \n",
            "_________________________________________________________________\n",
            "global_average_pooling1d_3 ( (None, 16)                0         \n",
            "_________________________________________________________________\n",
            "dense_6 (Dense)              (None, 24)                408       \n",
            "_________________________________________________________________\n",
            "dense_7 (Dense)              (None, 1)                 25        \n",
            "=================================================================\n",
            "Total params: 32,433\n",
            "Trainable params: 32,433\n",
            "Non-trainable params: 0\n",
            "_________________________________________________________________\n",
            "None\n",
            "Epoch 1/30\n",
            "625/625 - 1s - loss: 0.6647 - accuracy: 0.5867 - val_loss: 0.5847 - val_accuracy: 0.7468\n",
            "Epoch 2/30\n",
            "625/625 - 1s - loss: 0.4652 - accuracy: 0.7986 - val_loss: 0.4131 - val_accuracy: 0.8196\n",
            "Epoch 3/30\n",
            "625/625 - 1s - loss: 0.3714 - accuracy: 0.8400 - val_loss: 0.3866 - val_accuracy: 0.8280\n",
            "Epoch 4/30\n",
            "625/625 - 1s - loss: 0.3416 - accuracy: 0.8501 - val_loss: 0.3750 - val_accuracy: 0.8331\n",
            "Epoch 5/30\n",
            "625/625 - 1s - loss: 0.3254 - accuracy: 0.8593 - val_loss: 0.3728 - val_accuracy: 0.8366\n",
            "Epoch 6/30\n",
            "625/625 - 1s - loss: 0.3138 - accuracy: 0.8645 - val_loss: 0.3725 - val_accuracy: 0.8331\n",
            "Epoch 7/30\n",
            "625/625 - 1s - loss: 0.3070 - accuracy: 0.8665 - val_loss: 0.3826 - val_accuracy: 0.8347\n",
            "Epoch 8/30\n",
            "625/625 - 1s - loss: 0.3020 - accuracy: 0.8669 - val_loss: 0.3771 - val_accuracy: 0.8298\n",
            "Epoch 9/30\n",
            "625/625 - 1s - loss: 0.2967 - accuracy: 0.8714 - val_loss: 0.3921 - val_accuracy: 0.8231\n",
            "Epoch 10/30\n",
            "625/625 - 1s - loss: 0.2950 - accuracy: 0.8720 - val_loss: 0.3841 - val_accuracy: 0.8286\n",
            "Epoch 11/30\n",
            "625/625 - 1s - loss: 0.2926 - accuracy: 0.8708 - val_loss: 0.3871 - val_accuracy: 0.8289\n",
            "Epoch 12/30\n",
            "625/625 - 1s - loss: 0.2921 - accuracy: 0.8719 - val_loss: 0.4051 - val_accuracy: 0.8208\n",
            "Epoch 13/30\n",
            "625/625 - 1s - loss: 0.2890 - accuracy: 0.8753 - val_loss: 0.3919 - val_accuracy: 0.8284\n",
            "Epoch 14/30\n",
            "625/625 - 1s - loss: 0.2892 - accuracy: 0.8726 - val_loss: 0.3941 - val_accuracy: 0.8281\n",
            "Epoch 15/30\n",
            "625/625 - 1s - loss: 0.2874 - accuracy: 0.8742 - val_loss: 0.3955 - val_accuracy: 0.8277\n",
            "Epoch 16/30\n",
            "625/625 - 1s - loss: 0.2875 - accuracy: 0.8734 - val_loss: 0.4060 - val_accuracy: 0.8271\n",
            "Epoch 17/30\n",
            "625/625 - 1s - loss: 0.2853 - accuracy: 0.8745 - val_loss: 0.4004 - val_accuracy: 0.8259\n",
            "Epoch 18/30\n",
            "625/625 - 1s - loss: 0.2838 - accuracy: 0.8766 - val_loss: 0.4021 - val_accuracy: 0.8264\n",
            "Epoch 19/30\n",
            "625/625 - 1s - loss: 0.2851 - accuracy: 0.8748 - val_loss: 0.4055 - val_accuracy: 0.8250\n",
            "Epoch 20/30\n",
            "625/625 - 1s - loss: 0.2836 - accuracy: 0.8762 - val_loss: 0.4043 - val_accuracy: 0.8264\n",
            "Epoch 21/30\n",
            "625/625 - 1s - loss: 0.2846 - accuracy: 0.8751 - val_loss: 0.4076 - val_accuracy: 0.8255\n",
            "Epoch 22/30\n",
            "625/625 - 1s - loss: 0.2828 - accuracy: 0.8740 - val_loss: 0.4093 - val_accuracy: 0.8249\n",
            "Epoch 23/30\n",
            "625/625 - 1s - loss: 0.2825 - accuracy: 0.8763 - val_loss: 0.4161 - val_accuracy: 0.8208\n",
            "Epoch 24/30\n",
            "625/625 - 1s - loss: 0.2830 - accuracy: 0.8748 - val_loss: 0.4125 - val_accuracy: 0.8235\n",
            "Epoch 25/30\n",
            "625/625 - 1s - loss: 0.2810 - accuracy: 0.8773 - val_loss: 0.4111 - val_accuracy: 0.8268\n",
            "Epoch 26/30\n",
            "625/625 - 1s - loss: 0.2832 - accuracy: 0.8764 - val_loss: 0.4118 - val_accuracy: 0.8256\n",
            "Epoch 27/30\n",
            "625/625 - 1s - loss: 0.2808 - accuracy: 0.8774 - val_loss: 0.4186 - val_accuracy: 0.8237\n",
            "Epoch 28/30\n",
            "625/625 - 1s - loss: 0.2823 - accuracy: 0.8755 - val_loss: 0.4316 - val_accuracy: 0.8134\n",
            "Epoch 29/30\n",
            "625/625 - 1s - loss: 0.2810 - accuracy: 0.8770 - val_loss: 0.4136 - val_accuracy: 0.8269\n",
            "Epoch 30/30\n",
            "625/625 - 1s - loss: 0.2808 - accuracy: 0.8781 - val_loss: 0.4145 - val_accuracy: 0.8271\n"
          ],
          "name": "stdout"
        },
        {
          "output_type": "display_data",
          "data": {
            "image/png": "[encoded data removed]",
            "text/plain": [
              "<Figure size 432x288 with 1 Axes>"
            ]
          },
          "metadata": {
            "tags": [],
            "needs_background": "light"
          }
        },
        {
          "output_type": "display_data",
          "data": {
            "image/png": "[encoded data removed]",
            "text/plain": [
              "<Figure size 432x288 with 1 Axes>"
            ]
          },
          "metadata": {
            "tags": [],
            "needs_background": "light"
          }
        }
      ]
    },
    {
      "cell_type": "code",
      "metadata": {
        "colab": {
          "base_uri": "https://localhost:8080/",
          "height": 1000
        },
        "id": "7Z2QWzEQ-cjR",
        "outputId": "e6a50bea-8feb-4c78-9959-4df6c2f23e87"
      },
      "source": [
        "#3\n",
        "#Hyperparameters\n",
        "vocab_size = 2000 \n",
        "embedding_dim = 32 \n",
        "max_length = 50 # was 100\n",
        "trunc_type='post'\n",
        "padding_type='post'\n",
        "oov_tok = \"<OOV>\"\n",
        "training_size = 20000\n",
        "#run\n",
        "NLP_Preparation(training_size,embedding_dim,max_length,trunc_type,padding_type,oov_tok)"
      ],
      "execution_count": 30,
      "outputs": [
        {
          "output_type": "stream",
          "text": [
            "Model: \"sequential_4\"\n",
            "_________________________________________________________________\n",
            "Layer (type)                 Output Shape              Param #   \n",
            "=================================================================\n",
            "embedding_4 (Embedding)      (None, 50, 32)            64000     \n",
            "_________________________________________________________________\n",
            "global_average_pooling1d_4 ( (None, 32)                0         \n",
            "_________________________________________________________________\n",
            "dense_8 (Dense)              (None, 24)                792       \n",
            "_________________________________________________________________\n",
            "dense_9 (Dense)              (None, 1)                 25        \n",
            "=================================================================\n",
            "Total params: 64,817\n",
            "Trainable params: 64,817\n",
            "Non-trainable params: 0\n",
            "_________________________________________________________________\n",
            "None\n",
            "Epoch 1/30\n",
            "625/625 - 1s - loss: 0.5678 - accuracy: 0.6887 - val_loss: 0.4139 - val_accuracy: 0.8138\n",
            "Epoch 2/30\n",
            "625/625 - 1s - loss: 0.3632 - accuracy: 0.8410 - val_loss: 0.3733 - val_accuracy: 0.8337\n",
            "Epoch 3/30\n",
            "625/625 - 1s - loss: 0.3271 - accuracy: 0.8550 - val_loss: 0.3739 - val_accuracy: 0.8350\n",
            "Epoch 4/30\n",
            "625/625 - 1s - loss: 0.3110 - accuracy: 0.8641 - val_loss: 0.3736 - val_accuracy: 0.8286\n",
            "Epoch 5/30\n",
            "625/625 - 1s - loss: 0.3036 - accuracy: 0.8676 - val_loss: 0.3793 - val_accuracy: 0.8277\n",
            "Epoch 6/30\n",
            "625/625 - 1s - loss: 0.2981 - accuracy: 0.8677 - val_loss: 0.3832 - val_accuracy: 0.8267\n",
            "Epoch 7/30\n",
            "625/625 - 1s - loss: 0.2954 - accuracy: 0.8721 - val_loss: 0.3907 - val_accuracy: 0.8255\n",
            "Epoch 8/30\n",
            "625/625 - 1s - loss: 0.2920 - accuracy: 0.8731 - val_loss: 0.4065 - val_accuracy: 0.8190\n",
            "Epoch 9/30\n",
            "625/625 - 1s - loss: 0.2911 - accuracy: 0.8713 - val_loss: 0.3929 - val_accuracy: 0.8265\n",
            "Epoch 10/30\n",
            "625/625 - 1s - loss: 0.2886 - accuracy: 0.8735 - val_loss: 0.3985 - val_accuracy: 0.8252\n",
            "Epoch 11/30\n",
            "625/625 - 1s - loss: 0.2875 - accuracy: 0.8742 - val_loss: 0.3996 - val_accuracy: 0.8256\n",
            "Epoch 12/30\n",
            "625/625 - 1s - loss: 0.2869 - accuracy: 0.8760 - val_loss: 0.4017 - val_accuracy: 0.8217\n",
            "Epoch 13/30\n",
            "625/625 - 1s - loss: 0.2854 - accuracy: 0.8739 - val_loss: 0.4220 - val_accuracy: 0.8155\n",
            "Epoch 14/30\n",
            "625/625 - 1s - loss: 0.2864 - accuracy: 0.8749 - val_loss: 0.4119 - val_accuracy: 0.8235\n",
            "Epoch 15/30\n",
            "625/625 - 1s - loss: 0.2845 - accuracy: 0.8765 - val_loss: 0.4079 - val_accuracy: 0.8258\n",
            "Epoch 16/30\n",
            "625/625 - 1s - loss: 0.2842 - accuracy: 0.8762 - val_loss: 0.4040 - val_accuracy: 0.8275\n",
            "Epoch 17/30\n",
            "625/625 - 1s - loss: 0.2850 - accuracy: 0.8753 - val_loss: 0.4054 - val_accuracy: 0.8214\n",
            "Epoch 18/30\n",
            "625/625 - 1s - loss: 0.2824 - accuracy: 0.8790 - val_loss: 0.4065 - val_accuracy: 0.8234\n",
            "Epoch 19/30\n",
            "625/625 - 1s - loss: 0.2834 - accuracy: 0.8773 - val_loss: 0.4059 - val_accuracy: 0.8244\n",
            "Epoch 20/30\n",
            "625/625 - 1s - loss: 0.2821 - accuracy: 0.8770 - val_loss: 0.4128 - val_accuracy: 0.8190\n",
            "Epoch 21/30\n",
            "625/625 - 1s - loss: 0.2811 - accuracy: 0.8791 - val_loss: 0.4161 - val_accuracy: 0.8158\n",
            "Epoch 22/30\n",
            "625/625 - 1s - loss: 0.2799 - accuracy: 0.8801 - val_loss: 0.4125 - val_accuracy: 0.8204\n",
            "Epoch 23/30\n",
            "625/625 - 1s - loss: 0.2792 - accuracy: 0.8795 - val_loss: 0.4065 - val_accuracy: 0.8261\n",
            "Epoch 24/30\n",
            "625/625 - 1s - loss: 0.2785 - accuracy: 0.8792 - val_loss: 0.4130 - val_accuracy: 0.8205\n",
            "Epoch 25/30\n",
            "625/625 - 1s - loss: 0.2776 - accuracy: 0.8800 - val_loss: 0.4146 - val_accuracy: 0.8158\n",
            "Epoch 26/30\n",
            "625/625 - 1s - loss: 0.2779 - accuracy: 0.8797 - val_loss: 0.4162 - val_accuracy: 0.8223\n",
            "Epoch 27/30\n",
            "625/625 - 1s - loss: 0.2748 - accuracy: 0.8809 - val_loss: 0.4145 - val_accuracy: 0.8204\n",
            "Epoch 28/30\n",
            "625/625 - 1s - loss: 0.2740 - accuracy: 0.8809 - val_loss: 0.4087 - val_accuracy: 0.8217\n",
            "Epoch 29/30\n",
            "625/625 - 1s - loss: 0.2718 - accuracy: 0.8820 - val_loss: 0.4145 - val_accuracy: 0.8240\n",
            "Epoch 30/30\n",
            "625/625 - 1s - loss: 0.2696 - accuracy: 0.8818 - val_loss: 0.4175 - val_accuracy: 0.8225\n"
          ],
          "name": "stdout"
        },
        {
          "output_type": "display_data",
          "data": {
            "image/png": "[encoded data removed]",
            "text/plain": [
              "<Figure size 432x288 with 1 Axes>"
            ]
          },
          "metadata": {
            "tags": [],
            "needs_background": "light"
          }
        },
        {
          "output_type": "display_data",
          "data": {
            "image/png": "[encoded data removed]",
            "text/plain": [
              "<Figure size 432x288 with 1 Axes>"
            ]
          },
          "metadata": {
            "tags": [],
            "needs_background": "light"
          }
        }
      ]
    },
    {
      "cell_type": "markdown",
      "metadata": {
        "id": "h6E1bZGYOSld"
      },
      "source": [
        "#References\n",
        "-Sarcasm Detection using Hybrid Neural Network. Misra, Rishabh and Arora, Prahal.arXiv preprint arXiv:1908.07414. \n",
        "\n",
        "-Coursera Course. Natural Language Processing in TensorFlow by DeepLearning.AI\n"
      ]
    }
  ]
}
