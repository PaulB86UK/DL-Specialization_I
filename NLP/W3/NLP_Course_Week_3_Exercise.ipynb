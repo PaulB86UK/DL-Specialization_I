{
  "nbformat": 4,
  "nbformat_minor": 0,
  "metadata": {
    "accelerator": "GPU",
    "colab": {
      "name": "NLP Course - Week 3 Exercise.ipynb",
      "provenance": [],
      "collapsed_sections": [],
      "toc_visible": true
    },
    "kernelspec": {
      "display_name": "Python 3",
      "language": "python",
      "name": "python3"
    },
    "language_info": {
      "codemirror_mode": {
        "name": "ipython",
        "version": 3
      },
      "file_extension": ".py",
      "mimetype": "text/x-python",
      "name": "python",
      "nbconvert_exporter": "python",
      "pygments_lexer": "ipython3",
      "version": "3.7.6"
    }
  },
  "cells": [
    {
      "cell_type": "code",
      "metadata": {
        "id": "hmA6EzkQJ5jt"
      },
      "source": [
        "import json\n",
        "import tensorflow as tf\n",
        "import csv\n",
        "import random\n",
        "import numpy as np\n",
        "\n",
        "from tensorflow.keras.preprocessing.text import Tokenizer\n",
        "from tensorflow.keras.preprocessing.sequence import pad_sequences\n",
        "from tensorflow.keras.utils import to_categorical\n",
        "from tensorflow.keras import regularizers\n",
        "\n",
        "\n",
        "embedding_dim = 100\n",
        "max_length = 16\n",
        "trunc_type='post'\n",
        "padding_type='post'\n",
        "oov_tok = \"<OOV>\"\n",
        "training_size=160000\n",
        "test_portion=.1\n",
        "\n",
        "corpus = []\n"
      ],
      "execution_count": null,
      "outputs": []
    },
    {
      "cell_type": "code",
      "metadata": {
        "colab": {
          "base_uri": "https://localhost:8080/"
        },
        "id": "bM0l_dORKqE0",
        "outputId": "7ee5925a-6b43-4f87-e7c8-dc197beaeffb"
      },
      "source": [
        "# Note that I cleaned the Stanford dataset to remove LATIN1 encoding to make it easier for Python CSV reader\n",
        "# You can do that yourself with:\n",
        "# iconv -f LATIN1 -t UTF8 training.1600000.processed.noemoticon.csv -o training_cleaned.csv\n",
        "# I then hosted it on my site to make it easier to use in this notebook\n",
        "\n",
        "!wget --no-check-certificate \\\n",
        "    https://storage.googleapis.com/laurencemoroney-blog.appspot.com/training_cleaned.csv \\\n",
        "    -O /tmp/training_cleaned.csv\n",
        "\n",
        "num_sentences = 0\n",
        "\n",
        "with open(\"/tmp/training_cleaned.csv\") as csvfile:\n",
        "    reader = csv.reader(csvfile, delimiter=',')\n",
        "    for row in reader:\n",
        "        list_item=[]\n",
        "        list_item.append(row[5])\n",
        "        this_label=row[0]\n",
        "        if this_label=='0':\n",
        "            list_item.append(0)\n",
        "        else:\n",
        "            list_item.append(1)\n",
        "        num_sentences = num_sentences + 1\n",
        "        corpus.append(list_item)\n"
      ],
      "execution_count": null,
      "outputs": [
        {
          "output_type": "stream",
          "text": [
            "--2020-12-16 09:40:10--  https://storage.googleapis.com/laurencemoroney-blog.appspot.com/training_cleaned.csv\n",
            "Resolving storage.googleapis.com (storage.googleapis.com)... 172.217.8.16, 142.250.73.208, 172.253.122.128, ...\n",
            "Connecting to storage.googleapis.com (storage.googleapis.com)|172.217.8.16|:443... connected.\n",
            "HTTP request sent, awaiting response... 200 OK\n",
            "Length: 238942690 (228M) [application/octet-stream]\n",
            "Saving to: ‘/tmp/training_cleaned.csv’\n",
            "\n",
            "/tmp/training_clean 100%[===================>] 227.87M   125MB/s    in 1.8s    \n",
            "\n",
            "2020-12-16 09:40:12 (125 MB/s) - ‘/tmp/training_cleaned.csv’ saved [238942690/238942690]\n",
            "\n"
          ],
          "name": "stdout"
        }
      ]
    },
    {
      "cell_type": "code",
      "metadata": {
        "colab": {
          "base_uri": "https://localhost:8080/"
        },
        "id": "3kxblBUjEUX-",
        "outputId": "23445cc8-d3de-417c-c064-b1cd973cf14d"
      },
      "source": [
        "print(num_sentences)\n",
        "print(len(corpus))\n",
        "print(corpus[1])\n",
        "\n",
        "# Expected Output:\n",
        "# 1600000\n",
        "# 1600000\n",
        "# [\"is upset that he can't update his Facebook by texting it... and might cry as a result  School today also. Blah!\", 0]"
      ],
      "execution_count": null,
      "outputs": [
        {
          "output_type": "stream",
          "text": [
            "1600000\n",
            "1600000\n",
            "[\"is upset that he can't update his Facebook by texting it... and might cry as a result  School today also. Blah!\", 0]\n"
          ],
          "name": "stdout"
        }
      ]
    },
    {
      "cell_type": "code",
      "metadata": {
        "id": "ohOGz24lsNAD"
      },
      "source": [
        "sentences=[]\n",
        "labels=[]\n",
        "random.shuffle(corpus)\n",
        "for x in range(training_size):\n",
        "    sentences.append(corpus[x][0])\n",
        "    labels.append(corpus[x][1])\n",
        "\n",
        "\n",
        "tokenizer = Tokenizer()\n",
        "tokenizer.fit_on_texts(sentences)\n",
        "\n",
        "word_index = tokenizer.word_index\n",
        "vocab_size=len(word_index)\n",
        "\n",
        "sequences = tokenizer.texts_to_sequences(sentences)\n",
        "padded = pad_sequences(sequences, maxlen=max_length, padding=padding_type, truncating=trunc_type)\n",
        "\n",
        "split = int(test_portion * training_size)\n",
        "\n",
        "test_sequences = padded[0:split]\n",
        "training_sequences = padded[split:training_size]\n",
        "test_labels = labels[0:split]\n",
        "training_labels = labels[split:training_size]"
      ],
      "execution_count": null,
      "outputs": []
    },
    {
      "cell_type": "code",
      "metadata": {
        "colab": {
          "base_uri": "https://localhost:8080/"
        },
        "id": "C1zdgJkusRh0",
        "outputId": "3b49e024-ecca-4a96-9b1d-8ac9c97bb463"
      },
      "source": [
        "!wget --no-check-certificate \\\n",
        "    https://storage.googleapis.com/laurencemoroney-blog.appspot.com/glove.6B.100d.txt \\\n",
        "    -O /tmp/glove.6B.100d.txt\n",
        "embeddings_index = {};\n",
        "with open('/tmp/glove.6B.100d.txt') as f:\n",
        "    for line in f:\n",
        "        values = line.split();\n",
        "        word = values[0];\n",
        "        coefs = np.asarray(values[1:], dtype='float32');\n",
        "        embeddings_index[word] = coefs;\n",
        "\n",
        "embeddings_matrix = np.zeros((vocab_size+1, embedding_dim));\n",
        "for word, i in word_index.items():\n",
        "    embedding_vector = embeddings_index.get(word);\n",
        "    if embedding_vector is not None:\n",
        "        embeddings_matrix[i] = embedding_vector;"
      ],
      "execution_count": null,
      "outputs": [
        {
          "output_type": "stream",
          "text": [
            "--2020-12-16 09:40:23--  https://storage.googleapis.com/laurencemoroney-blog.appspot.com/glove.6B.100d.txt\n",
            "Resolving storage.googleapis.com (storage.googleapis.com)... 172.217.9.208, 172.217.2.112, 172.217.7.240, ...\n",
            "Connecting to storage.googleapis.com (storage.googleapis.com)|172.217.9.208|:443... connected.\n",
            "HTTP request sent, awaiting response... 200 OK\n",
            "Length: 347116733 (331M) [text/plain]\n",
            "Saving to: ‘/tmp/glove.6B.100d.txt’\n",
            "\n",
            "/tmp/glove.6B.100d. 100%[===================>] 331.04M   176MB/s    in 1.9s    \n",
            "\n",
            "2020-12-16 09:40:25 (176 MB/s) - ‘/tmp/glove.6B.100d.txt’ saved [347116733/347116733]\n",
            "\n"
          ],
          "name": "stdout"
        }
      ]
    },
    {
      "cell_type": "code",
      "metadata": {
        "colab": {
          "base_uri": "https://localhost:8080/"
        },
        "id": "iKKvbuEBOGFz",
        "outputId": "a198aa84-f8df-4763-be78-b006d635c436"
      },
      "source": [
        "model = tf.keras.Sequential([\n",
        "    tf.keras.layers.Embedding(vocab_size+1, embedding_dim, input_length=max_length, weights=[embeddings_matrix], trainable=False),\n",
        "    tf.keras.layers.Dropout(0.2),\n",
        "    tf.keras.layers.Conv1D(64, 5, activation='relu'),\n",
        "    tf.keras.layers.MaxPooling1D(pool_size=4), \n",
        "    tf.keras.layers.LSTM(64), #LSTM\n",
        "    tf.keras.layers.Dense(1, activation='sigmoid')\n",
        "])\n",
        "model.compile(loss='binary_crossentropy',optimizer='adam',metrics=['accuracy'])\n",
        "model.summary()\n",
        "\n",
        "num_epochs = 50\n",
        "\n",
        "training_padded = np.array(training_sequences)\n",
        "training_labels = np.array(training_labels)\n",
        "testing_padded = np.array(test_sequences)\n",
        "testing_labels = np.array(test_labels)\n",
        "\n",
        "history = model.fit(training_padded, training_labels, epochs=num_epochs, validation_data=(testing_padded, testing_labels), verbose=2)\n",
        "\n",
        "print(\"Training Complete\")"
      ],
      "execution_count": null,
      "outputs": [
        {
          "output_type": "stream",
          "text": [
            "Model: \"sequential\"\n",
            "_________________________________________________________________\n",
            "Layer (type)                 Output Shape              Param #   \n",
            "=================================================================\n",
            "embedding (Embedding)        (None, 16, 100)           13836200  \n",
            "_________________________________________________________________\n",
            "dropout (Dropout)            (None, 16, 100)           0         \n",
            "_________________________________________________________________\n",
            "conv1d (Conv1D)              (None, 12, 64)            32064     \n",
            "_________________________________________________________________\n",
            "max_pooling1d (MaxPooling1D) (None, 3, 64)             0         \n",
            "_________________________________________________________________\n",
            "lstm (LSTM)                  (None, 64)                33024     \n",
            "_________________________________________________________________\n",
            "dense (Dense)                (None, 1)                 65        \n",
            "=================================================================\n",
            "Total params: 13,901,353\n",
            "Trainable params: 65,153\n",
            "Non-trainable params: 13,836,200\n",
            "_________________________________________________________________\n",
            "Epoch 1/50\n",
            "4500/4500 - 16s - loss: 0.5680 - accuracy: 0.6987 - val_loss: 0.5300 - val_accuracy: 0.7305\n",
            "Epoch 2/50\n",
            "4500/4500 - 15s - loss: 0.5263 - accuracy: 0.7316 - val_loss: 0.5203 - val_accuracy: 0.7391\n",
            "Epoch 3/50\n",
            "4500/4500 - 14s - loss: 0.5099 - accuracy: 0.7427 - val_loss: 0.5101 - val_accuracy: 0.7446\n",
            "Epoch 4/50\n",
            "4500/4500 - 15s - loss: 0.4979 - accuracy: 0.7510 - val_loss: 0.5092 - val_accuracy: 0.7461\n",
            "Epoch 5/50\n",
            "4500/4500 - 15s - loss: 0.4912 - accuracy: 0.7572 - val_loss: 0.5047 - val_accuracy: 0.7481\n",
            "Epoch 6/50\n",
            "4500/4500 - 15s - loss: 0.4833 - accuracy: 0.7614 - val_loss: 0.5152 - val_accuracy: 0.7427\n",
            "Epoch 7/50\n",
            "4500/4500 - 16s - loss: 0.4772 - accuracy: 0.7660 - val_loss: 0.5037 - val_accuracy: 0.7519\n",
            "Epoch 8/50\n",
            "4500/4500 - 14s - loss: 0.4714 - accuracy: 0.7682 - val_loss: 0.5054 - val_accuracy: 0.7500\n",
            "Epoch 9/50\n",
            "4500/4500 - 15s - loss: 0.4667 - accuracy: 0.7708 - val_loss: 0.5048 - val_accuracy: 0.7506\n",
            "Epoch 10/50\n",
            "4500/4500 - 14s - loss: 0.4649 - accuracy: 0.7739 - val_loss: 0.5066 - val_accuracy: 0.7533\n",
            "Epoch 11/50\n",
            "4500/4500 - 15s - loss: 0.4610 - accuracy: 0.7748 - val_loss: 0.5058 - val_accuracy: 0.7509\n",
            "Epoch 12/50\n",
            "4500/4500 - 14s - loss: 0.4579 - accuracy: 0.7762 - val_loss: 0.5058 - val_accuracy: 0.7496\n",
            "Epoch 13/50\n",
            "4500/4500 - 14s - loss: 0.4538 - accuracy: 0.7797 - val_loss: 0.5162 - val_accuracy: 0.7478\n",
            "Epoch 14/50\n",
            "4500/4500 - 14s - loss: 0.4528 - accuracy: 0.7809 - val_loss: 0.5100 - val_accuracy: 0.7514\n",
            "Epoch 15/50\n",
            "4500/4500 - 14s - loss: 0.4495 - accuracy: 0.7824 - val_loss: 0.5122 - val_accuracy: 0.7504\n",
            "Epoch 16/50\n",
            "4500/4500 - 15s - loss: 0.4486 - accuracy: 0.7825 - val_loss: 0.5151 - val_accuracy: 0.7492\n",
            "Epoch 17/50\n",
            "4500/4500 - 14s - loss: 0.4468 - accuracy: 0.7834 - val_loss: 0.5177 - val_accuracy: 0.7462\n",
            "Epoch 18/50\n",
            "4500/4500 - 14s - loss: 0.4458 - accuracy: 0.7852 - val_loss: 0.5161 - val_accuracy: 0.7517\n",
            "Epoch 19/50\n",
            "4500/4500 - 14s - loss: 0.4434 - accuracy: 0.7857 - val_loss: 0.5134 - val_accuracy: 0.7513\n",
            "Epoch 20/50\n",
            "4500/4500 - 14s - loss: 0.4422 - accuracy: 0.7866 - val_loss: 0.5189 - val_accuracy: 0.7524\n",
            "Epoch 21/50\n",
            "4500/4500 - 14s - loss: 0.4408 - accuracy: 0.7868 - val_loss: 0.5226 - val_accuracy: 0.7484\n",
            "Epoch 22/50\n",
            "4500/4500 - 14s - loss: 0.4392 - accuracy: 0.7880 - val_loss: 0.5193 - val_accuracy: 0.7496\n",
            "Epoch 23/50\n",
            "4500/4500 - 15s - loss: 0.4388 - accuracy: 0.7887 - val_loss: 0.5243 - val_accuracy: 0.7434\n",
            "Epoch 24/50\n",
            "4500/4500 - 14s - loss: 0.4385 - accuracy: 0.7886 - val_loss: 0.5220 - val_accuracy: 0.7490\n",
            "Epoch 25/50\n",
            "4500/4500 - 15s - loss: 0.4365 - accuracy: 0.7898 - val_loss: 0.5314 - val_accuracy: 0.7424\n",
            "Epoch 26/50\n",
            "4500/4500 - 15s - loss: 0.4358 - accuracy: 0.7908 - val_loss: 0.5212 - val_accuracy: 0.7493\n",
            "Epoch 27/50\n",
            "4500/4500 - 15s - loss: 0.4358 - accuracy: 0.7916 - val_loss: 0.5225 - val_accuracy: 0.7453\n",
            "Epoch 28/50\n",
            "4500/4500 - 16s - loss: 0.4357 - accuracy: 0.7908 - val_loss: 0.5209 - val_accuracy: 0.7448\n",
            "Epoch 29/50\n",
            "4500/4500 - 14s - loss: 0.4343 - accuracy: 0.7912 - val_loss: 0.5266 - val_accuracy: 0.7452\n",
            "Epoch 30/50\n",
            "4500/4500 - 15s - loss: 0.4340 - accuracy: 0.7922 - val_loss: 0.5201 - val_accuracy: 0.7479\n",
            "Epoch 31/50\n",
            "4500/4500 - 14s - loss: 0.4344 - accuracy: 0.7918 - val_loss: 0.5234 - val_accuracy: 0.7436\n",
            "Epoch 32/50\n",
            "4500/4500 - 14s - loss: 0.4316 - accuracy: 0.7934 - val_loss: 0.5306 - val_accuracy: 0.7466\n",
            "Epoch 33/50\n",
            "4500/4500 - 15s - loss: 0.4320 - accuracy: 0.7939 - val_loss: 0.5251 - val_accuracy: 0.7489\n",
            "Epoch 34/50\n",
            "4500/4500 - 14s - loss: 0.4312 - accuracy: 0.7925 - val_loss: 0.5272 - val_accuracy: 0.7484\n",
            "Epoch 35/50\n",
            "4500/4500 - 14s - loss: 0.4300 - accuracy: 0.7949 - val_loss: 0.5218 - val_accuracy: 0.7473\n",
            "Epoch 36/50\n",
            "4500/4500 - 14s - loss: 0.4302 - accuracy: 0.7936 - val_loss: 0.5290 - val_accuracy: 0.7444\n",
            "Epoch 37/50\n",
            "4500/4500 - 14s - loss: 0.4298 - accuracy: 0.7952 - val_loss: 0.5237 - val_accuracy: 0.7492\n",
            "Epoch 38/50\n",
            "4500/4500 - 14s - loss: 0.4270 - accuracy: 0.7967 - val_loss: 0.5285 - val_accuracy: 0.7446\n",
            "Epoch 39/50\n",
            "4500/4500 - 14s - loss: 0.4278 - accuracy: 0.7957 - val_loss: 0.5266 - val_accuracy: 0.7492\n",
            "Epoch 40/50\n",
            "4500/4500 - 14s - loss: 0.4296 - accuracy: 0.7941 - val_loss: 0.5270 - val_accuracy: 0.7492\n",
            "Epoch 41/50\n",
            "4500/4500 - 15s - loss: 0.4268 - accuracy: 0.7959 - val_loss: 0.5239 - val_accuracy: 0.7476\n",
            "Epoch 42/50\n",
            "4500/4500 - 15s - loss: 0.4275 - accuracy: 0.7958 - val_loss: 0.5294 - val_accuracy: 0.7473\n",
            "Epoch 43/50\n",
            "4500/4500 - 14s - loss: 0.4294 - accuracy: 0.7948 - val_loss: 0.5284 - val_accuracy: 0.7453\n",
            "Epoch 44/50\n",
            "4500/4500 - 15s - loss: 0.4272 - accuracy: 0.7966 - val_loss: 0.5258 - val_accuracy: 0.7424\n",
            "Epoch 45/50\n",
            "4500/4500 - 14s - loss: 0.4267 - accuracy: 0.7959 - val_loss: 0.5317 - val_accuracy: 0.7465\n",
            "Epoch 46/50\n",
            "4500/4500 - 15s - loss: 0.4266 - accuracy: 0.7964 - val_loss: 0.5327 - val_accuracy: 0.7429\n",
            "Epoch 47/50\n",
            "4500/4500 - 15s - loss: 0.4275 - accuracy: 0.7959 - val_loss: 0.5276 - val_accuracy: 0.7456\n",
            "Epoch 48/50\n",
            "4500/4500 - 14s - loss: 0.4266 - accuracy: 0.7960 - val_loss: 0.5271 - val_accuracy: 0.7469\n",
            "Epoch 49/50\n",
            "4500/4500 - 15s - loss: 0.4259 - accuracy: 0.7964 - val_loss: 0.5328 - val_accuracy: 0.7446\n",
            "Epoch 50/50\n",
            "4500/4500 - 15s - loss: 0.4253 - accuracy: 0.7969 - val_loss: 0.5327 - val_accuracy: 0.7462\n",
            "Training Complete\n"
          ],
          "name": "stdout"
        }
      ]
    },
    {
      "cell_type": "code",
      "metadata": {
        "colab": {
          "base_uri": "https://localhost:8080/",
          "height": 606
        },
        "id": "qxju4ItJKO8F",
        "outputId": "07ff0fa4-4178-45db-8dcf-7b483b9128e3"
      },
      "source": [
        "import matplotlib.image  as mpimg\n",
        "import matplotlib.pyplot as plt\n",
        "\n",
        "#-----------------------------------------------------------\n",
        "# Retrieve a list of list results on training and test data\n",
        "# sets for each training epoch\n",
        "#-----------------------------------------------------------\n",
        "acc=history.history['accuracy']\n",
        "val_acc=history.history['val_accuracy']\n",
        "loss=history.history['loss']\n",
        "val_loss=history.history['val_loss']\n",
        "\n",
        "epochs=range(len(acc)) # Get number of epochs\n",
        "\n",
        "#------------------------------------------------\n",
        "# Plot training and validation accuracy per epoch\n",
        "#------------------------------------------------\n",
        "plt.plot(epochs, acc, 'r')\n",
        "plt.plot(epochs, val_acc, 'b')\n",
        "plt.title('Training and validation accuracy')\n",
        "plt.xlabel(\"Epochs\")\n",
        "plt.ylabel(\"Accuracy\")\n",
        "plt.legend([\"Accuracy\", \"Validation Accuracy\"])\n",
        "\n",
        "plt.figure()\n",
        "\n",
        "#------------------------------------------------\n",
        "# Plot training and validation loss per epoch\n",
        "#------------------------------------------------\n",
        "plt.plot(epochs, loss, 'r')\n",
        "plt.plot(epochs, val_loss, 'b')\n",
        "plt.title('Training and validation loss')\n",
        "plt.xlabel(\"Epochs\")\n",
        "plt.ylabel(\"Loss\")\n",
        "plt.legend([\"Loss\", \"Validation Loss\"])\n",
        "\n",
        "plt.figure()\n",
        "\n",
        "# Expected Output\n",
        "# A chart where the validation loss does not increase sharply!"
      ],
      "execution_count": null,
      "outputs": [
        {
          "output_type": "execute_result",
          "data": {
            "text/plain": [
              "<Figure size 432x288 with 0 Axes>"
            ]
          },
          "metadata": {
            "tags": []
          },
          "execution_count": 16
        },
        {
          "output_type": "display_data",
          "data": {
            "image/png": "[encoded data removed]",
            "text/plain": [
              "<Figure size 432x288 with 1 Axes>"
            ]
          },
          "metadata": {
            "tags": [],
            "needs_background": "light"
          }
        },
        {
          "output_type": "display_data",
          "data": {
            "image/png": "[encoded data removed]",
            "text/plain": [
              "<Figure size 432x288 with 1 Axes>"
            ]
          },
          "metadata": {
            "tags": [],
            "needs_background": "light"
          }
        },
        {
          "output_type": "display_data",
          "data": {
            "text/plain": [
              "<Figure size 432x288 with 0 Axes>"
            ]
          },
          "metadata": {
            "tags": []
          }
        }
      ]
    }
  ]
}